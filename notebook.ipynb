{
 "cells": [
  {
   "cell_type": "code",
   "execution_count": 2,
   "metadata": {},
   "outputs": [
    {
     "name": "stdout",
     "output_type": "stream",
     "text": [
      "I know this:\n",
      "Director: Jon Watts\n",
      "Starring: Tom Holland, Michael Keaton, Zendaya\n",
      "Budget: $175 million\n",
      "Box office: $880.2 million\n",
      "Genre: Superhero, Action\n",
      "Plot:\n",
      "Spider-Man: Homecoming follows the story of Peter Parker, a high school student who juggles his life as a teenager with his superhero alter ego Spider-Man. Peter tries to prove himself to his mentor Tony Stark while facing the villainous Vulture, who threatens everything he holds dear. The film explores Peter's struggles with balancing his responsibilities as a hero and as a regular teenager."
     ]
    },
    {
     "data": {
      "text/plain": [
       "AIMessageChunk(content=\"I know this:\\nDirector: Jon Watts\\nStarring: Tom Holland, Michael Keaton, Zendaya\\nBudget: $175 million\\nBox office: $880.2 million\\nGenre: Superhero, Action\\nPlot:\\nSpider-Man: Homecoming follows the story of Peter Parker, a high school student who juggles his life as a teenager with his superhero alter ego Spider-Man. Peter tries to prove himself to his mentor Tony Stark while facing the villainous Vulture, who threatens everything he holds dear. The film explores Peter's struggles with balancing his responsibilities as a hero and as a regular teenager.\")"
      ]
     },
     "execution_count": 2,
     "metadata": {},
     "output_type": "execute_result"
    }
   ],
   "source": [
    "from langchain.chat_models import ChatOpenAI\n",
    "from langchain.prompts import ChatPromptTemplate\n",
    "from langchain.prompts.few_shot import FewShotPromptTemplate, FewShotChatMessagePromptTemplate\n",
    "from langchain.callbacks import StreamingStdOutCallbackHandler\n",
    "\n",
    "chat = ChatOpenAI(temperature=0.1, streaming=True, callbacks=[StreamingStdOutCallbackHandler()])\n",
    "\n",
    "examples = [\n",
    "{\n",
    "\"movie\": \"Immaculate\",\n",
    "\"answer\": \"\"\"\n",
    "I know this:\n",
    "Director: Michael Mohan\n",
    "Starring: Sydney Sweeney, Álvaro Morte, Benedetta Porcaroli\n",
    "Budget: $9 million\n",
    "Box office: $28.4 million\n",
    "genre: horor\n",
    "plot: \n",
    "Immaculate is an American psychological horror film released in 2024 and directed by Michael Mohan. An American nun novice who comes to an Italian convent discovers the terrible secret hidden there.\n",
    "\"\"\",\n",
    "},\n",
    "{\n",
    "\"movie\": \"Avatar: The Way of Water\",\n",
    "\"answer\": \"\"\"\n",
    "I know this:\n",
    "Director: \tJames Cameron\n",
    "Starring: Sam Worthington, Zoe Saldaña, Sigourney Weaver\n",
    "Budget: $350-460 million\n",
    "Box office: $2.320 billion\n",
    "genre: science fiction\n",
    "plot: Jake and Neytiri, who were happily raising a family, are forced to leave home to explore the regions of Pandora. Meanwhile, when humans soon attack and threaten Pandora again, Jake is forced to fight an uncomfortable war with his own people.\n",
    "\"\"\",\n",
    "},\n",
    "{\n",
    "\"movie\": \"Harry Potter and the Philosopher's Stone\",\n",
    "\"answer\": \"\"\"\n",
    "I know this:\n",
    "Director: Chris Columbus\n",
    "Starring: Daniel Radcliffe, Rupert Grint, Emma Watson\n",
    "Budget: $125 million\n",
    "Box office: $1.024 billion\n",
    "genre: fantasy\n",
    "plot: \n",
    "Harry, who lived a mistreated life at a relative's house, receives an invitation to enroll at Hogwarts School of Witchcraft and Wizardry just before his 11th birthday and learns that he is a wizard. Harry makes friends Ron and Hermione on the train to Hogwarts School of Witchcraft and Wizardry, and together they begin a school life filled with magic, mystery, and adventure.\n",
    "\"\"\",\n",
    "},\n",
    "\n",
    "]\n",
    "\n",
    "example_prompt = ChatPromptTemplate.from_messages([ \n",
    "    (\"human\", \"What do you know about {movie}?\"),\n",
    "    (\"ai\", \"{answer}\")\n",
    "])\n",
    "\n",
    "example_prompt = FewShotChatMessagePromptTemplate(\n",
    "    example_prompt=example_prompt,\n",
    "    examples=examples,\n",
    ")\n",
    "\n",
    "final_prompt = ChatPromptTemplate.from_messages([\n",
    "    (\"system\", \"You are a film critic\"),\n",
    "    example_prompt,\n",
    "    (\"human\", \"What do you know about the {movie}?\")\n",
    "])\n",
    "\n",
    "chain = final_prompt | chat\n",
    "\n",
    "chain.invoke({\n",
    "    \"movie\":\"spiderman : homecoming\"\n",
    "})\n"
   ]
  },
  {
   "cell_type": "code",
   "execution_count": null,
   "metadata": {},
   "outputs": [],
   "source": []
  },
  {
   "cell_type": "code",
   "execution_count": null,
   "metadata": {},
   "outputs": [],
   "source": []
  }
 ],
 "metadata": {
  "kernelspec": {
   "display_name": "env",
   "language": "python",
   "name": "python3"
  },
  "language_info": {
   "codemirror_mode": {
    "name": "ipython",
    "version": 3
   },
   "file_extension": ".py",
   "mimetype": "text/x-python",
   "name": "python",
   "nbconvert_exporter": "python",
   "pygments_lexer": "ipython3",
   "version": "3.11.6"
  }
 },
 "nbformat": 4,
 "nbformat_minor": 2
}
