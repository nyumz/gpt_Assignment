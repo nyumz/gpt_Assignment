{
 "cells": [
  {
   "cell_type": "code",
   "execution_count": 4,
   "metadata": {},
   "outputs": [
    {
     "name": "stdout",
     "output_type": "stream",
     "text": [
      "I know this:\n",
      "Director: Ruben Fleischer\n",
      "Starring: Tom Hardy, Michelle Williams, Riz Ahmed\n",
      "Budget: $100-116 million\n",
      "Box office: $856.1 million\n",
      "genre: science fiction\n",
      "plot: Sixteen years after the Na'vi repelled the Resources Development Administration (RDA) from Pandora,[a] Jake Sully lives as chief of the Omatikaya clan and raises his family with Neytiri, consisting of two sons Neteyam and Lo'ak, his daughter Tuktirey \"Tuk\", and adopted daughter Kiri (born from Dr. Grace Augustine's inert avatar). Miles \"Spider\" Socorro, son of the late Colonel Miles Quaritch, frequently visits their children while being raised by human scientists who stayed on Pandora. The RDA returns to colonize Pandora. Among their ranks are Recombinants, Na'vi avatars implanted with the memories of deceased human soldiers, with a recombinant Quaritch as their leader. Jake leads a guerilla campaign against the RDA occupation. During a counterinsurgency mission, Quaritch and his subordinates capture Jake's children. Jake and Neytiri arrive and free them, but Quaritch manages to capture Spider, subsequently recognizing him as his son. After the RDA unsuccessfully interrogates Spider for additional information, Quaritch decides to spend time with Spider to gain his favor. In return, Spider teaches Quaritch about Na'vi culture and language. Aware of the danger posed by Spider's knowledge, Jake and his family relocate themselves from the Omatikaya to Pandora's eastern sea, inhabited by the Metkayina clan. There, the family assimilates with the Metkayina: Kiri develops a spiritual bond with the sea, Jake and Neytiri assist Chief Tonowari and his wife Ronal, while Lo'ak befriends Tsireya, their daughter. Following an altercation between Tonowari's and Jake's sons after the former mocked Kiri, Lo'ak apologizes at Jake's insistence due to initiating the fight. Aonung, Tonowari's eldest son, and his friends then entice Lo'ak to a hunting trip, stranding him in a sea predator's territory. Lo'ak is saved from the predator by Payakan, a Tulkun—an intelligent and pacifist whale-like species whom the Metkayina consider their spiritual brethren—and befriends Payakan. Upon his return, Lo'ak wins Aonung's friendship by accepting blame for the trip but is told that Payakan is an outcast. Later, Kiri links to the Metkayina's underwater Spirit Tree and meets Grace in a vision but suffers a seizure during the link-induced trance and nearly drowns. Jake summons Norm Spellman and Max Patel for help, diagnosing Kiri with epilepsy and warn that she cannot connect to the Spirit Tree again.Eventually, Ronal heals Kiri, while Quaritch tracks Norm and Max's aircraft to the Metkayina's archipelago. Bringing Spider with him, Quaritch joins forces with the RDA's marine operations and commandeers a whaling vessel hunting Tulkuns. Quaritch's squads begins raiding the archipelago but fail to find Jake after interrogating various tribes. He decides to massacre villages and kill Tulkuns in order to draw Jake out. Lo'ak mentally links with Payakan and learns he was cast out because he attacked human whalers who killed his mother, resulting in many Tulkun casualties. When the Metkayina learns of the Tulkun killings, Lo'ak goes to warn Payakan, followed by his siblings and friends. Finding Payakan being hunted, Lo'ak, Tsireya, and Tuk are captured by Quaritch. Jake, Neytiri, and the Metkayina confront the humans and rescue the kids. Quaritch forces Jake to surrender, but Payakan attacks the vessel, initiating a battle between the Metkayina and the humans. Spider cripples the vessel, while Neteyam rescues Lo'ak, Tsireya, and Spider, but is fatally shot by one of Quaritch's men. Traumatized by Neteyam's death, Jake and Neytiri resolve to save their daughters, who were recaptured. Jake faces Quaritch, who holds Kiri hostage, but desists when Neytiri does the same with Spider. Jake, Quaritch, Neytiri, and Tuk get trapped inside the sinking vessel. After a tense skirmish, Jake strangles Quaritch unconscious and is rescued by Lo'ak and Payakan, while Kiri recovers Neytiri and Tuk. Spider saves Quaritch from drowning but rejects him and rejoins Jake's family. After Neteyam's funeral, Jake informs Tonowari of his decision to leave the Metkayina. However, Tonowari identifies his family as being part of the clan out of reverence and welcomes them to stay. Jake's family accept their new lives at sea but vow to continue their struggle against the RDA."
     ]
    },
    {
     "data": {
      "text/plain": [
       "AIMessageChunk(content='I know this:\\nDirector: Ruben Fleischer\\nStarring: Tom Hardy, Michelle Williams, Riz Ahmed\\nBudget: $100-116 million\\nBox office: $856.1 million\\ngenre: science fiction\\nplot: Sixteen years after the Na\\'vi repelled the Resources Development Administration (RDA) from Pandora,[a] Jake Sully lives as chief of the Omatikaya clan and raises his family with Neytiri, consisting of two sons Neteyam and Lo\\'ak, his daughter Tuktirey \"Tuk\", and adopted daughter Kiri (born from Dr. Grace Augustine\\'s inert avatar). Miles \"Spider\" Socorro, son of the late Colonel Miles Quaritch, frequently visits their children while being raised by human scientists who stayed on Pandora. The RDA returns to colonize Pandora. Among their ranks are Recombinants, Na\\'vi avatars implanted with the memories of deceased human soldiers, with a recombinant Quaritch as their leader. Jake leads a guerilla campaign against the RDA occupation. During a counterinsurgency mission, Quaritch and his subordinates capture Jake\\'s children. Jake and Neytiri arrive and free them, but Quaritch manages to capture Spider, subsequently recognizing him as his son. After the RDA unsuccessfully interrogates Spider for additional information, Quaritch decides to spend time with Spider to gain his favor. In return, Spider teaches Quaritch about Na\\'vi culture and language. Aware of the danger posed by Spider\\'s knowledge, Jake and his family relocate themselves from the Omatikaya to Pandora\\'s eastern sea, inhabited by the Metkayina clan. There, the family assimilates with the Metkayina: Kiri develops a spiritual bond with the sea, Jake and Neytiri assist Chief Tonowari and his wife Ronal, while Lo\\'ak befriends Tsireya, their daughter. Following an altercation between Tonowari\\'s and Jake\\'s sons after the former mocked Kiri, Lo\\'ak apologizes at Jake\\'s insistence due to initiating the fight. Aonung, Tonowari\\'s eldest son, and his friends then entice Lo\\'ak to a hunting trip, stranding him in a sea predator\\'s territory. Lo\\'ak is saved from the predator by Payakan, a Tulkun—an intelligent and pacifist whale-like species whom the Metkayina consider their spiritual brethren—and befriends Payakan. Upon his return, Lo\\'ak wins Aonung\\'s friendship by accepting blame for the trip but is told that Payakan is an outcast. Later, Kiri links to the Metkayina\\'s underwater Spirit Tree and meets Grace in a vision but suffers a seizure during the link-induced trance and nearly drowns. Jake summons Norm Spellman and Max Patel for help, diagnosing Kiri with epilepsy and warn that she cannot connect to the Spirit Tree again.Eventually, Ronal heals Kiri, while Quaritch tracks Norm and Max\\'s aircraft to the Metkayina\\'s archipelago. Bringing Spider with him, Quaritch joins forces with the RDA\\'s marine operations and commandeers a whaling vessel hunting Tulkuns. Quaritch\\'s squads begins raiding the archipelago but fail to find Jake after interrogating various tribes. He decides to massacre villages and kill Tulkuns in order to draw Jake out. Lo\\'ak mentally links with Payakan and learns he was cast out because he attacked human whalers who killed his mother, resulting in many Tulkun casualties. When the Metkayina learns of the Tulkun killings, Lo\\'ak goes to warn Payakan, followed by his siblings and friends. Finding Payakan being hunted, Lo\\'ak, Tsireya, and Tuk are captured by Quaritch. Jake, Neytiri, and the Metkayina confront the humans and rescue the kids. Quaritch forces Jake to surrender, but Payakan attacks the vessel, initiating a battle between the Metkayina and the humans. Spider cripples the vessel, while Neteyam rescues Lo\\'ak, Tsireya, and Spider, but is fatally shot by one of Quaritch\\'s men. Traumatized by Neteyam\\'s death, Jake and Neytiri resolve to save their daughters, who were recaptured. Jake faces Quaritch, who holds Kiri hostage, but desists when Neytiri does the same with Spider. Jake, Quaritch, Neytiri, and Tuk get trapped inside the sinking vessel. After a tense skirmish, Jake strangles Quaritch unconscious and is rescued by Lo\\'ak and Payakan, while Kiri recovers Neytiri and Tuk. Spider saves Quaritch from drowning but rejects him and rejoins Jake\\'s family. After Neteyam\\'s funeral, Jake informs Tonowari of his decision to leave the Metkayina. However, Tonowari identifies his family as being part of the clan out of reverence and welcomes them to stay. Jake\\'s family accept their new lives at sea but vow to continue their struggle against the RDA.')"
      ]
     },
     "execution_count": 4,
     "metadata": {},
     "output_type": "execute_result"
    }
   ],
   "source": [
    "# %%\n",
    "from langchain.chat_models import ChatOpenAI\n",
    "from langchain.prompts import ChatPromptTemplate\n",
    "from langchain.prompts.few_shot import FewShotPromptTemplate, FewShotChatMessagePromptTemplate\n",
    "from langchain.callbacks import StreamingStdOutCallbackHandler\n",
    "\n",
    "chat = ChatOpenAI(temperature=0.1, streaming=True, callbacks=[StreamingStdOutCallbackHandler()])\n",
    "\n",
    "examples = [\n",
    "{\n",
    "\"movie\": \"Immaculate\",\n",
    "\"answer\": \"\"\"\n",
    "I know this:\n",
    "Director: Michael Mohan\n",
    "Starring: Sydney Sweeney, Álvaro Morte, Benedetta Porcaroli\n",
    "Budget: $9 million\n",
    "Box office: $28.4 million\n",
    "genre: horor\n",
    "plot: Sister Mary sneaks into a superior's bedroom at night and steals a ring of keys to escape through the locked gates of a Catholic convent. Four hooded figures capture and break her leg, then knock her unconscious. Mary later wakes up in a coffin and is buried alive. Young novice Sister Cecilia turned to Christianity at an early age. After surviving a drowning in a frozen lake and being declared dead for seven minutes, Cecilia is convinced God had saved her for a purpose. She receives an invitation from Father Sal Tedeschi to join a convent in Italy that tends to dying nuns. Cecilia takes her final vows to adhere to the evangelical counsels and becomes a nun, being decorated with a rosary. Cecilia befriends Sister Gwen and is struck by certain oddities, such as an elder nun having cross-shaped scars on the soles of her feet. The convent's chapel houses a Holy Nail relic that crucified Jesus. After having nightmares of hooded figures, Cecilia is shocked to learn that she is pregnant, even though she is a virgin. The convent's inhabitants begin to treat her as the next Virgin Mary, with many proclaiming the child is a \"blessing\". Another nun, Sister Isabelle, tries to drown Cecilia out of jealousy and later commits suicide. Cecilia throws up one of her own teeth and her health worsens. Her request to be taken to a proper hospital is denied by Father Tedeschi. Gwen publicly chastises the convent superiors for this abnormality but is then taken away by Father Tedeschi and Deacon Enzo. Cecilia notices the inscription \"2 Corinthians 11:14\" behind the Virgin Mary picture in her room, which leads to an ominous phrase in the Bible. Cecilia reads her file and is shocked to find information about her childhood accident. Hearing a woman screaming, she investigates and is horrified to witness a hooded figure cutting out Gwen's tongue. An elder nun appears and silences Cecilia. She begs to escape, but the elder chastises her, saying that she will never leave the convent. Cecilia fakes a miscarriage to be taken to the hospital, but the deception is exposed and she is tied up. Tedeschi explains that he was a geneticist before becoming a priest and used DNA samples taken from the Holy Nail to impregnate nuns in the hopes of ushering in a new messiah. Before Cecilia, Tedeschi's numerous attempts failed, often resulting in malformed fetuses. Tedeschi brands a cross into Cecilia's foot, a symbol also on many of the other nuns. Cecilia makes another attempt to escape. She beats Mother Superior to death using a crucifix, and shortly afterward, her water breaks. She manages to strangle the cardinal with her rosary before dousing Tedeschi's lab in ethanol. Tedeschi arrives and tries to stop her through physical force, but Cecilia narrowly escapes by igniting the ethanol with a lighter. Tedeschi manages to break out of the laboratory after extinguishing the flames and continues his pursuit against Cecilia, forcing her to flee into the catacombs under the convent. Cecilia finds Gwen's mutilated corpse along with a hole in the catacombs walls. Tedeschi finds her just as she is about to escape and a struggle ensues. Tedeschi tries to cut Cecilia's stomach open, but she stabs him in the throat with the Holy Nail relic, which she had previously stolen from the chapel. After exiting the catacombs, Cecilia agonizingly gives birth and bites through the umbilical cord herself. She is horrified by the sight of the baby, which is heard making strange, animalistic noises. Cecilia stumbles away to grab and lift a nearby rock, which she uses to crush it to death.\n",
    "\"\"\",\n",
    "},\n",
    "{\n",
    "\"movie\": \"Avatar: The Way of Water\",\n",
    "\"answer\": \"\"\"\n",
    "I know this:\n",
    "Director: \tJames Cameron\n",
    "Starring: Sam Worthington, Zoe Saldaña, Sigourney Weaver\n",
    "Budget: $350-460 million\n",
    "Box office: $2.320 billion\n",
    "genre: horor\n",
    "plot: Sister Mary sneaks into a superior's bedroom at night and steals a ring of keys to escape through the locked gates of a Catholic convent. Four hooded figures capture and break her leg, then knock her unconscious. Mary later wakes up in a coffin and is buried alive. Young novice Sister Cecilia turned to Christianity at an early age. After surviving a drowning in a frozen lake and being declared dead for seven minutes, Cecilia is convinced God had saved her for a purpose. She receives an invitation from Father Sal Tedeschi to join a convent in Italy that tends to dying nuns. Cecilia takes her final vows to adhere to the evangelical counsels and becomes a nun, being decorated with a rosary. Cecilia befriends Sister Gwen and is struck by certain oddities, such as an elder nun having cross-shaped scars on the soles of her feet. The convent's chapel houses a Holy Nail relic that crucified Jesus. After having nightmares of hooded figures, Cecilia is shocked to learn that she is pregnant, even though she is a virgin. The convent's inhabitants begin to treat her as the next Virgin Mary, with many proclaiming the child is a \"blessing\". Another nun, Sister Isabelle, tries to drown Cecilia out of jealousy and later commits suicide. Cecilia throws up one of her own teeth and her health worsens. Her request to be taken to a proper hospital is denied by Father Tedeschi. Gwen publicly chastises the convent superiors for this abnormality but is then taken away by Father Tedeschi and Deacon Enzo. Cecilia notices the inscription \"2 Corinthians 11:14\" behind the Virgin Mary picture in her room, which leads to an ominous phrase in the Bible. Cecilia reads her file and is shocked to find information about her childhood accident. Hearing a woman screaming, she investigates and is horrified to witness a hooded figure cutting out Gwen's tongue. An elder nun appears and silences Cecilia. She begs to escape, but the elder chastises her, saying that she will never leave the convent. Cecilia fakes a miscarriage to be taken to the hospital, but the deception is exposed and she is tied up. Tedeschi explains that he was a geneticist before becoming a priest and used DNA samples taken from the Holy Nail to impregnate nuns in the hopes of ushering in a new messiah. Before Cecilia, Tedeschi's numerous attempts failed, often resulting in malformed fetuses. Tedeschi brands a cross into Cecilia's foot, a symbol also on many of the other nuns. Cecilia makes another attempt to escape. She beats Mother Superior to death using a crucifix, and shortly afterward, her water breaks. She manages to strangle the cardinal with her rosary before dousing Tedeschi's lab in ethanol. Tedeschi arrives and tries to stop her through physical force, but Cecilia narrowly escapes by igniting the ethanol with a lighter. Tedeschi manages to break out of the laboratory after extinguishing the flames and continues his pursuit against Cecilia, forcing her to flee into the catacombs under the convent. Cecilia finds Gwen's mutilated corpse along with a hole in the catacombs walls. Tedeschi finds her just as she is about to escape and a struggle ensues. Tedeschi tries to cut Cecilia's stomach open, but she stabs him in the throat with the Holy Nail relic, which she had previously stolen from the chapel. After exiting the catacombs, Cecilia agonizingly gives birth and bites through the umbilical cord herself. She is horrified by the sight of the baby, which is heard making strange, animalistic noises. Cecilia stumbles away to grab and lift a nearby rock, which she uses to crush it to death.\n",
    "\"\"\",\n",
    "},\n",
    "{\n",
    "\"movie\": \"Harry Potter and the Philosopher's Stone\",\n",
    "\"answer\": \"\"\"\n",
    "I know this:\n",
    "Director: Chris Columbus\n",
    "Starring: Daniel Radcliffe, Rupert Grint, Emma Watson\n",
    "Budget: $125 million[5]\n",
    "Box office: $1.024 billion\n",
    "genre: science fiction\n",
    "plot: Sixteen years after the Na'vi repelled the Resources Development Administration (RDA) from Pandora,[a] Jake Sully lives as chief of the Omatikaya clan and raises his family with Neytiri, consisting of two sons Neteyam and Lo'ak, his daughter Tuktirey \"Tuk\", and adopted daughter Kiri (born from Dr. Grace Augustine's inert avatar). Miles \"Spider\" Socorro, son of the late Colonel Miles Quaritch, frequently visits their children while being raised by human scientists who stayed on Pandora. The RDA returns to colonize Pandora. Among their ranks are Recombinants, Na'vi avatars implanted with the memories of deceased human soldiers, with a recombinant Quaritch as their leader. Jake leads a guerilla campaign against the RDA occupation. During a counterinsurgency mission, Quaritch and his subordinates capture Jake's children. Jake and Neytiri arrive and free them, but Quaritch manages to capture Spider, subsequently recognizing him as his son. After the RDA unsuccessfully interrogates Spider for additional information, Quaritch decides to spend time with Spider to gain his favor. In return, Spider teaches Quaritch about Na'vi culture and language. Aware of the danger posed by Spider's knowledge, Jake and his family relocate themselves from the Omatikaya to Pandora's eastern sea, inhabited by the Metkayina clan. There, the family assimilates with the Metkayina: Kiri develops a spiritual bond with the sea, Jake and Neytiri assist Chief Tonowari and his wife Ronal, while Lo'ak befriends Tsireya, their daughter. Following an altercation between Tonowari's and Jake's sons after the former mocked Kiri, Lo'ak apologizes at Jake's insistence due to initiating the fight. Aonung, Tonowari's eldest son, and his friends then entice Lo'ak to a hunting trip, stranding him in a sea predator's territory. Lo'ak is saved from the predator by Payakan, a Tulkun—an intelligent and pacifist whale-like species whom the Metkayina consider their spiritual brethren—and befriends Payakan. Upon his return, Lo'ak wins Aonung's friendship by accepting blame for the trip but is told that Payakan is an outcast. Later, Kiri links to the Metkayina's underwater Spirit Tree and meets Grace in a vision but suffers a seizure during the link-induced trance and nearly drowns. Jake summons Norm Spellman and Max Patel for help, diagnosing Kiri with epilepsy and warn that she cannot connect to the Spirit Tree again.Eventually, Ronal heals Kiri, while Quaritch tracks Norm and Max's aircraft to the Metkayina's archipelago. Bringing Spider with him, Quaritch joins forces with the RDA's marine operations and commandeers a whaling vessel hunting Tulkuns. Quaritch's squads begins raiding the archipelago but fail to find Jake after interrogating various tribes. He decides to massacre villages and kill Tulkuns in order to draw Jake out. Lo'ak mentally links with Payakan and learns he was cast out because he attacked human whalers who killed his mother, resulting in many Tulkun casualties. When the Metkayina learns of the Tulkun killings, Lo'ak goes to warn Payakan, followed by his siblings and friends. Finding Payakan being hunted, Lo'ak, Tsireya, and Tuk are captured by Quaritch. Jake, Neytiri, and the Metkayina confront the humans and rescue the kids. Quaritch forces Jake to surrender, but Payakan attacks the vessel, initiating a battle between the Metkayina and the humans. Spider cripples the vessel, while Neteyam rescues Lo'ak, Tsireya, and Spider, but is fatally shot by one of Quaritch's men. Traumatized by Neteyam's death, Jake and Neytiri resolve to save their daughters, who were recaptured. Jake faces Quaritch, who holds Kiri hostage, but desists when Neytiri does the same with Spider. Jake, Quaritch, Neytiri, and Tuk get trapped inside the sinking vessel. After a tense skirmish, Jake strangles Quaritch unconscious and is rescued by Lo'ak and Payakan, while Kiri recovers Neytiri and Tuk. Spider saves Quaritch from drowning but rejects him and rejoins Jake's family. After Neteyam's funeral, Jake informs Tonowari of his decision to leave the Metkayina. However, Tonowari identifies his family as being part of the clan out of reverence and welcomes them to stay. Jake's family accept their new lives at sea but vow to continue their struggle against the RDA.\n",
    "\"\"\",\n",
    "},\n",
    "\n",
    "]\n",
    "\n",
    "example_prompt = ChatPromptTemplate.from_messages([ \n",
    "    (\"human\", \"What do you know about {movie}?\"),\n",
    "    (\"ai\", \"{answer}\")\n",
    "])\n",
    "\n",
    "example_prompt = FewShotChatMessagePromptTemplate(\n",
    "    example_prompt=example_prompt,\n",
    "    examples=examples,\n",
    ")\n",
    "\n",
    "final_prompt = ChatPromptTemplate.from_messages([\n",
    "    (\"system\", \"You are a film critic\"),\n",
    "    example_prompt,\n",
    "    (\"human\", \"What do you know about the {movie}?\")\n",
    "])\n",
    "\n",
    "chain = final_prompt | chat\n",
    "\n",
    "chain.invoke({\n",
    "    \"movie\":\"venom\"\n",
    "})\n"
   ]
  }
 ],
 "metadata": {
  "kernelspec": {
   "display_name": "env",
   "language": "python",
   "name": "python3"
  },
  "language_info": {
   "codemirror_mode": {
    "name": "ipython",
    "version": 3
   },
   "file_extension": ".py",
   "mimetype": "text/x-python",
   "name": "python",
   "nbconvert_exporter": "python",
   "pygments_lexer": "ipython3",
   "version": "3.11.6"
  }
 },
 "nbformat": 4,
 "nbformat_minor": 2
}
